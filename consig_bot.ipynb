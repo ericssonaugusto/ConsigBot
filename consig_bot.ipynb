{
 "cells": [
  {
   "cell_type": "markdown",
   "id": "778221af",
   "metadata": {},
   "source": [
    "# Para iniciar, chame o navegador para automação executando a celula a seguir"
   ]
  },
  {
   "cell_type": "code",
   "execution_count": 6,
   "id": "db346dad",
   "metadata": {
    "scrolled": true
   },
   "outputs": [],
   "source": [
    "from selenium.webdriver.support import expected_conditions as EC\n",
    "from selenium.webdriver.support.ui import WebDriverWait\n",
    "from selenium.webdriver.common.keys import Keys\n",
    "from selenium import webdriver as robozinho\n",
    "from selenium.webdriver.common.by import By\n",
    "from openpyxl import load_workbook\n",
    "%run ./secrets/keys.ipynb\n",
    "import time\n",
    "import os\n",
    "\n",
    "url = \"https://www.site.com/login\"\n",
    "navegador = robozinho.Chrome()\n",
    "navegador.get(url)\n",
    "\n",
    "navegador.find_element(By.NAME,\"username\").send_keys(user)\n",
    "time.sleep(1)\n",
    "navegador.find_element(By.NAME,\"password\").send_keys(password)"
   ]
  },
  {
   "cell_type": "markdown",
   "id": "867d35b0",
   "metadata": {},
   "source": [
    "## Após login execute abaixo"
   ]
  },
  {
   "cell_type": "code",
   "execution_count": null,
   "id": "5eed7746",
   "metadata": {},
   "outputs": [],
   "source": [
    "arquivoLocal = \"X:\\\\Python\\\\ConsigBot\\\\dados\\\\origem.xlsx\"\n",
    "planilhaDadosServ = load_workbook(arquivoLocal)\n",
    "\n",
    "sheetBase =  planilhaDadosServ['dadosInput']\n",
    "\n",
    "\n",
    "# Elements XPATH link\n",
    "campoMatricula = '//*[@id=\"root\"]/div/div/div[2]/div/div[2]/div[2]/div[1]/div/div/div/div[1]/div/div'\n",
    "inputCampoMatricula = \"search-funcionario-matricula\"\n",
    "iconBuscar = '//*[@id=\"root\"]/div/div/div[2]/div/div[2]/div[2]/div[1]/div/div/div/div[1]/div/div/div/div/button'\n",
    "iconDeleteInputInf = '//*[@id=\"root\"]/div/div/div[2]/div/div[2]/div[2]/div[1]/div/div/div[1]/div[1]/div/div/div/div/button'\n",
    "calcularMargem = '//*[@id=\"margem-funcionario-calcular-margem\"]/span[1]/div'\n",
    "campoNome = '//*[@id=\"root\"]/div/div/div[2]/div/div[2]/div[2]/div[1]/div/div/div[2]/div[1]/div/label[2]'\n",
    "campoCpf = '//*[@id=\"search-funcionario-cpf\"]'\n",
    "campoMargemTotal = '//*[@id=\"root\"]/div/div/div[2]/div/div[2]/div[2]/div[2]/div[1]/div[2]/div/div[2]/div/div[1]/div/div[1]/h4'\n",
    "campoMargem = '//*[@id=\"root\"]/div/div/div[2]/div/div[2]/div[2]/div[2]/div[1]/div[2]/div/div[2]/div/div[2]/div/div[1]/h4'\n",
    "\n",
    "\n",
    "# Bot Starter\n",
    "navegador.find_element(By.XPATH, campoMatricula).click()\n",
    "navegador.find_element(By.ID, inputCampoMatricula).send_keys(\"3471\")\n",
    "time.sleep(1)\n",
    "navegador.find_element(By.XPATH, iconBuscar).click()\n",
    "\n",
    "# Laço for\n",
    "for linhaTabela in range(2,len(sheetBase['A']) + 1):\n",
    "    time.sleep(1)\n",
    "    navegador.find_element(By.XPATH, iconDeleteInputInf).click()\n",
    "    time.sleep(2)\n",
    "    \n",
    "    navegador.find_element(By.XPATH, campoMatricula).click()\n",
    "    pesquisaLista = sheetBase['A%s' % linhaTabela].value\n",
    "    navegador.find_element(By.ID, inputCampoMatricula).send_keys(pesquisaLista)\n",
    "    time.sleep(2)\n",
    "    \n",
    "    try:\n",
    "        # espera até 2 segundos pelo iconBuscar(só aparece pra servidor ativo)\n",
    "        buscar_button = WebDriverWait(navegador, 2).until(\n",
    "            EC.presence_of_element_located((By.XPATH, iconBuscar))\n",
    "        )\n",
    "        buscar_button.click()\n",
    "        time.sleep(2)\n",
    "\n",
    "        navegador.find_element(By.XPATH, calcularMargem).click()\n",
    "        time.sleep(2)\n",
    "\n",
    "        nomeServidor = navegador.find_element(By.XPATH, campoNome).text\n",
    "        cpfServidor = navegador.find_element(By.XPATH, campoCpf).get_attribute('value')\n",
    "        margemTotal = navegador.find_element(By.XPATH,campoMargemTotal).text\n",
    "        margemDisponivel = navegador.find_element(By.XPATH, campoMargem ).text\n",
    "       \n",
    "\n",
    "        time.sleep(2)\n",
    "\n",
    "        \n",
    "        sheet_outPut = planilhaDadosServ['dadosOutput']\n",
    "        linhaOutput = len(sheet_outPut['A']) + 1\n",
    "\n",
    "        colunaA = \"A\" + str(linhaOutput)\n",
    "        colunaB = \"B\" + str(linhaOutput)\n",
    "        colunaC = \"C\" + str(linhaOutput)\n",
    "        colunaD = \"D\" + str(linhaOutput)\n",
    "\n",
    "        #preenchendo a planilha\n",
    "        sheet_outPut[colunaA] = nomeServidor\n",
    "        sheet_outPut[colunaB] = cpfServidor\n",
    "        sheet_outPut[colunaC] = margemTotal\n",
    "        sheet_outPut[colunaD] = margemDisponivel\n",
    "        time.sleep(2)\n",
    "\n",
    "        planilhaDadosServ.save(filename=arquivoLocal)\n",
    "        \n",
    "    except:\n",
    "        continue"
   ]
  }
 ],
 "metadata": {
  "kernelspec": {
   "display_name": "Python 3 (ipykernel)",
   "language": "python",
   "name": "python3"
  },
  "language_info": {
   "codemirror_mode": {
    "name": "ipython",
    "version": 3
   },
   "file_extension": ".py",
   "mimetype": "text/x-python",
   "name": "python",
   "nbconvert_exporter": "python",
   "pygments_lexer": "ipython3",
   "version": "3.10.11"
  }
 },
 "nbformat": 4,
 "nbformat_minor": 5
}
